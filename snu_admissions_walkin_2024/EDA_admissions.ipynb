{
 "cells": [
  {
   "cell_type": "markdown",
   "id": "6e9191e9",
   "metadata": {},
   "source": [
    "# Dataset\n",
    "\n",
    "So I have been interning in the admissions department at my university. So there is this excel file that maintain which has the walk-in details of all the people who come to visit the university.\n",
    "\n",
    "There are these headers in the file:\n",
    "1. Date\n",
    "2. Parent Name\n",
    "3. Student Name\n",
    "4. Course: The course that the student has enrolled in or wishes to enrol.\n",
    "5. Grade: This basically shows the recent class that the student has passed, whether its 12th or he is a dropout (13th)\n",
    "6. Contact Details\n",
    "7. Email Id\n",
    "8. City\n",
    "9. Application Number\n",
    "10. Status: The options in the status header are as follows: Form not initiated, Form initiated - test not taken, Form initiated - test taken, Offered, Offered - fee paid\n",
    "11. Walkin: The number of people who have come to the university. \n",
    "12. Counsellor: Name of the person who has taken the counselling of the person.\n",
    "13. Query: Query of the person\n",
    "14. Campus Tour by: Campus tour given by whom\n",
    "15. Walkin details: Walkin details by whom\n",
    "16. Eligibility: To check if the person meets the eligibility criteria for the course."
   ]
  },
  {
   "cell_type": "markdown",
   "id": "c995f5cf",
   "metadata": {},
   "source": [
    "## Dependencies"
   ]
  },
  {
   "cell_type": "code",
   "execution_count": 1,
   "id": "bf237822",
   "metadata": {},
   "outputs": [],
   "source": [
    "import numpy as np\n",
    "import pandas as pd\n",
    "import matplotlib.pyplot as plt"
   ]
  },
  {
   "cell_type": "markdown",
   "id": "dfabfd27",
   "metadata": {},
   "source": [
    "## Cleaning & Transforming"
   ]
  },
  {
   "cell_type": "code",
   "execution_count": 2,
   "id": "531c6c3d",
   "metadata": {},
   "outputs": [],
   "source": [
    "df = pd.read_csv('../Downloads/2024 UG Admissions - 2024 Walk-ins (1).csv', skipinitialspace=True)"
   ]
  },
  {
   "cell_type": "code",
   "execution_count": 3,
   "id": "a60fc539",
   "metadata": {},
   "outputs": [
    {
     "data": {
      "text/html": [
       "<div>\n",
       "<style scoped>\n",
       "    .dataframe tbody tr th:only-of-type {\n",
       "        vertical-align: middle;\n",
       "    }\n",
       "\n",
       "    .dataframe tbody tr th {\n",
       "        vertical-align: top;\n",
       "    }\n",
       "\n",
       "    .dataframe thead th {\n",
       "        text-align: right;\n",
       "    }\n",
       "</style>\n",
       "<table border=\"1\" class=\"dataframe\">\n",
       "  <thead>\n",
       "    <tr style=\"text-align: right;\">\n",
       "      <th></th>\n",
       "      <th>Unnamed: 0</th>\n",
       "      <th>Parent Name</th>\n",
       "      <th>Student Name</th>\n",
       "      <th>Course</th>\n",
       "      <th>Grade</th>\n",
       "      <th>Contact Details</th>\n",
       "      <th>E-mail ID</th>\n",
       "      <th>City</th>\n",
       "      <th>Application No</th>\n",
       "      <th>Status</th>\n",
       "      <th>Walk in</th>\n",
       "      <th>Counselor</th>\n",
       "      <th>Query</th>\n",
       "      <th>Campus Tour by</th>\n",
       "      <th>Walk-in Details By</th>\n",
       "      <th>Eligibility</th>\n",
       "      <th>Remarks</th>\n",
       "    </tr>\n",
       "  </thead>\n",
       "  <tbody>\n",
       "    <tr>\n",
       "      <th>0</th>\n",
       "      <td>19-09-2023</td>\n",
       "      <td>Vivek</td>\n",
       "      <td>Krish</td>\n",
       "      <td>BMS</td>\n",
       "      <td>12</td>\n",
       "      <td>9834744207</td>\n",
       "      <td>krishrachh59@gmail.com</td>\n",
       "      <td>Pune</td>\n",
       "      <td>-</td>\n",
       "      <td>Form not initiated</td>\n",
       "      <td>walk in (1+2)</td>\n",
       "      <td>Jayant Sir</td>\n",
       "      <td>Campus visit ( Counselling, faculty interactio...</td>\n",
       "      <td>Shivani</td>\n",
       "      <td>NaN</td>\n",
       "      <td>NaN</td>\n",
       "      <td>NaN</td>\n",
       "    </tr>\n",
       "    <tr>\n",
       "      <th>1</th>\n",
       "      <td>21-09-2023</td>\n",
       "      <td>NaN</td>\n",
       "      <td>Maheep</td>\n",
       "      <td>Economics</td>\n",
       "      <td>11</td>\n",
       "      <td>8766291167</td>\n",
       "      <td>janpreetwadhwa@gmail.com</td>\n",
       "      <td>Mumbai</td>\n",
       "      <td>NaN</td>\n",
       "      <td>Form not initiated</td>\n",
       "      <td>walk in (1+2)</td>\n",
       "      <td>Ankita</td>\n",
       "      <td>NaN</td>\n",
       "      <td>Adhitya Ram</td>\n",
       "      <td>NaN</td>\n",
       "      <td>NaN</td>\n",
       "      <td>NaN</td>\n",
       "    </tr>\n",
       "    <tr>\n",
       "      <th>2</th>\n",
       "      <td>25-09-2023</td>\n",
       "      <td>Nitin Kumar</td>\n",
       "      <td>Tiksha Adlakha</td>\n",
       "      <td>CSE</td>\n",
       "      <td>11</td>\n",
       "      <td>9015216127</td>\n",
       "      <td>sonia.nitin18@gmail.com</td>\n",
       "      <td>West Delhi</td>\n",
       "      <td>-</td>\n",
       "      <td>Form not initiated</td>\n",
       "      <td>Walk in (1+2)</td>\n",
       "      <td>Anju</td>\n",
       "      <td>About the process</td>\n",
       "      <td>Astha</td>\n",
       "      <td>NaN</td>\n",
       "      <td>NaN</td>\n",
       "      <td>NaN</td>\n",
       "    </tr>\n",
       "    <tr>\n",
       "      <th>3</th>\n",
       "      <td>25-09-2023</td>\n",
       "      <td>Rahul Kumar</td>\n",
       "      <td>Aditya Kumar</td>\n",
       "      <td>CSE</td>\n",
       "      <td>12</td>\n",
       "      <td>9999783835</td>\n",
       "      <td>rahul2975@yahoo.com</td>\n",
       "      <td>Delhi</td>\n",
       "      <td>NaN</td>\n",
       "      <td>Form not initiated</td>\n",
       "      <td>Walk in (1+2)</td>\n",
       "      <td>Sasank</td>\n",
       "      <td>Process criteria</td>\n",
       "      <td>Shivani</td>\n",
       "      <td>NaN</td>\n",
       "      <td>NaN</td>\n",
       "      <td>NaN</td>\n",
       "    </tr>\n",
       "    <tr>\n",
       "      <th>4</th>\n",
       "      <td>25-09-2023</td>\n",
       "      <td>NaN</td>\n",
       "      <td>Sahas Suri</td>\n",
       "      <td>Economics</td>\n",
       "      <td>12</td>\n",
       "      <td>9711182828</td>\n",
       "      <td>sahassuri@gmail.com</td>\n",
       "      <td>Greater Noida</td>\n",
       "      <td>-</td>\n",
       "      <td>Form not initiated</td>\n",
       "      <td>Walk in (1+2)</td>\n",
       "      <td>Ankita</td>\n",
       "      <td>About the process</td>\n",
       "      <td>Shivani</td>\n",
       "      <td>NaN</td>\n",
       "      <td>NaN</td>\n",
       "      <td>NaN</td>\n",
       "    </tr>\n",
       "  </tbody>\n",
       "</table>\n",
       "</div>"
      ],
      "text/plain": [
       "   Unnamed: 0   Parent Name    Student Name     Course Grade Contact Details  \\\n",
       "0  19-09-2023         Vivek           Krish        BMS    12      9834744207   \n",
       "1  21-09-2023           NaN          Maheep  Economics    11      8766291167   \n",
       "2  25-09-2023   Nitin Kumar  Tiksha Adlakha        CSE    11      9015216127   \n",
       "3  25-09-2023  Rahul Kumar     Aditya Kumar        CSE    12      9999783835   \n",
       "4  25-09-2023           NaN      Sahas Suri  Economics    12      9711182828   \n",
       "\n",
       "                  E-mail ID           City Application No              Status  \\\n",
       "0    krishrachh59@gmail.com           Pune              -  Form not initiated   \n",
       "1  janpreetwadhwa@gmail.com         Mumbai            NaN  Form not initiated   \n",
       "2   sonia.nitin18@gmail.com     West Delhi              -  Form not initiated   \n",
       "3       rahul2975@yahoo.com          Delhi            NaN  Form not initiated   \n",
       "4       sahassuri@gmail.com  Greater Noida              -  Form not initiated   \n",
       "\n",
       "         Walk in   Counselor  \\\n",
       "0  walk in (1+2)  Jayant Sir   \n",
       "1  walk in (1+2)      Ankita   \n",
       "2  Walk in (1+2)        Anju   \n",
       "3  Walk in (1+2)      Sasank   \n",
       "4  Walk in (1+2)      Ankita   \n",
       "\n",
       "                                               Query Campus Tour by  \\\n",
       "0  Campus visit ( Counselling, faculty interactio...        Shivani   \n",
       "1                                                NaN    Adhitya Ram   \n",
       "2                                  About the process          Astha   \n",
       "3                                  Process criteria         Shivani   \n",
       "4                                  About the process        Shivani   \n",
       "\n",
       "  Walk-in Details By Eligibility Remarks  \n",
       "0                NaN         NaN     NaN  \n",
       "1                NaN         NaN     NaN  \n",
       "2                NaN         NaN     NaN  \n",
       "3                NaN         NaN     NaN  \n",
       "4                NaN         NaN     NaN  "
      ]
     },
     "execution_count": 3,
     "metadata": {},
     "output_type": "execute_result"
    }
   ],
   "source": [
    "df.head()"
   ]
  },
  {
   "cell_type": "code",
   "execution_count": 4,
   "id": "0a0623ae",
   "metadata": {},
   "outputs": [],
   "source": [
    "df.rename(columns = {'Unnamed: 0': 'Date'}, inplace=True)"
   ]
  },
  {
   "cell_type": "code",
   "execution_count": 5,
   "id": "e3ac7ab1",
   "metadata": {},
   "outputs": [],
   "source": [
    "#date - maintaining consistency in format\n",
    "df['Date'] = pd.to_datetime(df['Date'], dayfirst=True).dt.strftime('%d/%m/%Y')"
   ]
  },
  {
   "cell_type": "code",
   "execution_count": 6,
   "id": "7084542e",
   "metadata": {},
   "outputs": [],
   "source": [
    "index = df[df['Date']=='01/08/2024'].index[0]"
   ]
  },
  {
   "cell_type": "code",
   "execution_count": 7,
   "id": "d5449b2e",
   "metadata": {},
   "outputs": [],
   "source": [
    "df = df[:index]"
   ]
  },
  {
   "cell_type": "code",
   "execution_count": 8,
   "id": "84922b6b",
   "metadata": {},
   "outputs": [
    {
     "name": "stdout",
     "output_type": "stream",
     "text": [
      "09/07/2024 nan\n"
     ]
    }
   ],
   "source": [
    "#fixing nan values\n",
    "index_na = df[df['Date'].isna()].index\n",
    "for ind in index_na:\n",
    "    print(df.loc[ind-1]['Date'], df.loc[ind]['Date'])\n",
    "    df.loc[ind]['Date'] = df.loc[ind-1]['Date']"
   ]
  },
  {
   "cell_type": "code",
   "execution_count": 9,
   "id": "cfe90b0b",
   "metadata": {},
   "outputs": [
    {
     "data": {
      "text/html": [
       "<div>\n",
       "<style scoped>\n",
       "    .dataframe tbody tr th:only-of-type {\n",
       "        vertical-align: middle;\n",
       "    }\n",
       "\n",
       "    .dataframe tbody tr th {\n",
       "        vertical-align: top;\n",
       "    }\n",
       "\n",
       "    .dataframe thead th {\n",
       "        text-align: right;\n",
       "    }\n",
       "</style>\n",
       "<table border=\"1\" class=\"dataframe\">\n",
       "  <thead>\n",
       "    <tr style=\"text-align: right;\">\n",
       "      <th></th>\n",
       "      <th>Date</th>\n",
       "      <th>Parent Name</th>\n",
       "      <th>Student Name</th>\n",
       "      <th>Course</th>\n",
       "      <th>Grade</th>\n",
       "      <th>Contact Details</th>\n",
       "      <th>E-mail ID</th>\n",
       "      <th>City</th>\n",
       "      <th>Application No</th>\n",
       "      <th>Status</th>\n",
       "      <th>Walk in</th>\n",
       "      <th>Counselor</th>\n",
       "      <th>Query</th>\n",
       "      <th>Campus Tour by</th>\n",
       "      <th>Walk-in Details By</th>\n",
       "      <th>Eligibility</th>\n",
       "      <th>Remarks</th>\n",
       "    </tr>\n",
       "  </thead>\n",
       "  <tbody>\n",
       "  </tbody>\n",
       "</table>\n",
       "</div>"
      ],
      "text/plain": [
       "Empty DataFrame\n",
       "Columns: [Date, Parent Name, Student Name, Course, Grade, Contact Details, E-mail ID, City, Application No, Status, Walk in, Counselor, Query, Campus Tour by, Walk-in Details By, Eligibility, Remarks]\n",
       "Index: []"
      ]
     },
     "execution_count": 9,
     "metadata": {},
     "output_type": "execute_result"
    }
   ],
   "source": [
    "df[df['Date'].isna()]"
   ]
  },
  {
   "cell_type": "code",
   "execution_count": 10,
   "id": "3dccd970",
   "metadata": {},
   "outputs": [
    {
     "data": {
      "text/plain": [
       "CSE            939\n",
       "BMS            299\n",
       "ECE            203\n",
       "Economics       87\n",
       "Mechanical      79\n",
       "Eco-Fin         78\n",
       "Design          69\n",
       "Bio-tech        59\n",
       "IR              37\n",
       "Chemical        34\n",
       "Mathematics     29\n",
       "Civil           23\n",
       "Physics         16\n",
       "-               11\n",
       "Chemistry       11\n",
       "Sociology       10\n",
       "History          7\n",
       "English          5\n",
       "Eco              3\n",
       "ASU              3\n",
       "PHD              3\n",
       "Design           3\n",
       "English          1\n",
       "B. Des           1\n",
       "bms              1\n",
       "IR               1\n",
       "Eco-fin          1\n",
       "PG               1\n",
       "Name: Course, dtype: int64"
      ]
     },
     "execution_count": 10,
     "metadata": {},
     "output_type": "execute_result"
    }
   ],
   "source": [
    "#course\n",
    "df['Course'].value_counts()"
   ]
  },
  {
   "cell_type": "code",
   "execution_count": 11,
   "id": "153ee6e4",
   "metadata": {},
   "outputs": [],
   "source": [
    "#correcting the course names\n",
    "df['Course'] = df['Course'].str.strip()\n",
    "#btech\n",
    "df['Course'][df['Course']=='CSE'] = 'BTech Computer Science Engineering'\n",
    "df['Course'][df['Course']=='ECE'] = 'BTech Electrical & Computer Engineering'\n",
    "df['Course'][df['Course']=='Mechanical'] = 'BTech Mechanical Engineering'\n",
    "df['Course'][df['Course']=='Chemical'] = 'BTech Chemical Engineering'\n",
    "df['Course'][df['Course']=='Civil'] = 'BTech Civil Engineering'\n",
    "#bms\n",
    "df['Course'][df['Course']=='BMS'] = 'Bachelor of Management Studies'\n",
    "df['Course'][df['Course']=='bms'] = 'Bachelor of Management Studies'\n",
    "df['Course'][df['Course']==' BMS'] = 'Bachelor of Management Studies'\n",
    "#bsc\n",
    "df['Course'][df['Course']=='Economics'] = 'BSc Economics'\n",
    "df['Course'][df['Course']=='Eco'] = 'BSc Economics'\n",
    "df['Course'][df['Course']=='Eco-Fin'] = 'BSc Economics & Finance'\n",
    "df['Course'][df['Course']=='Eco-fin'] = 'BSc Economics & Finance'\n",
    "df['Course'][df['Course']=='Bio-tech'] = 'BSc Biotechnology'\n",
    "df['Course'][df['Course']=='Mathematics'] = 'BSc Mathematics'\n",
    "df['Course'][df['Course']=='Physics'] = 'BSc Physics'\n",
    "df['Course'][df['Course']=='Chemistry'] = 'BSc Chemistry'\n",
    "#ba\n",
    "df['Course'][df['Course']=='IR'] = 'BA International Relations'\n",
    "df['Course'][df['Course']=='Sociology'] = 'BA Sociology'\n",
    "df['Course'][df['Course']=='History'] = 'BA History'\n",
    "df['Course'][df['Course']=='English'] = 'BA English'\n",
    "#bdes\n",
    "df['Course'][df['Course']=='Design'] = 'Bachelor of Design'\n",
    "df['Course'][df['Course']=='B. Des'] = 'Bachelor of Design'\n",
    "#nan\n",
    "df['Course'][df['Course']=='-'] = np.nan"
   ]
  },
  {
   "cell_type": "code",
   "execution_count": 12,
   "id": "35e32ade",
   "metadata": {},
   "outputs": [],
   "source": [
    "df = df[df['Course']!='PHD']\n",
    "df = df[df['Course']!='PG']\n",
    "df = df[df['Course']!='ASU']"
   ]
  },
  {
   "cell_type": "code",
   "execution_count": 13,
   "id": "4f8d7fe6",
   "metadata": {},
   "outputs": [
    {
     "data": {
      "text/plain": [
       "BTech Computer Science Engineering         939\n",
       "Bachelor of Management Studies             300\n",
       "BTech Electrical & Computer Engineering    203\n",
       "BSc Economics                               90\n",
       "BTech Mechanical Engineering                79\n",
       "BSc Economics & Finance                     79\n",
       "Bachelor of Design                          73\n",
       "BSc Biotechnology                           59\n",
       "BA International Relations                  38\n",
       "BTech Chemical Engineering                  34\n",
       "BSc Mathematics                             29\n",
       "BTech Civil Engineering                     23\n",
       "BSc Physics                                 16\n",
       "BSc Chemistry                               11\n",
       "BA Sociology                                10\n",
       "BA History                                   7\n",
       "BA English                                   6\n",
       "Name: Course, dtype: int64"
      ]
     },
     "execution_count": 13,
     "metadata": {},
     "output_type": "execute_result"
    }
   ],
   "source": [
    "df['Course'].value_counts()"
   ]
  },
  {
   "cell_type": "code",
   "execution_count": 14,
   "id": "64918452",
   "metadata": {},
   "outputs": [
    {
     "data": {
      "text/plain": [
       "12                    1930\n",
       "Drop Year               34\n",
       "drop year                9\n",
       "11                       5\n",
       "Diploma                  1\n",
       "as Cambridge level       1\n",
       "Still in 12              1\n",
       "Drop                     1\n",
       "-                        1\n",
       "UG                       1\n",
       "Name: Grade, dtype: int64"
      ]
     },
     "execution_count": 14,
     "metadata": {},
     "output_type": "execute_result"
    }
   ],
   "source": [
    "#grade\n",
    "df['Grade'].value_counts()"
   ]
  },
  {
   "cell_type": "code",
   "execution_count": 15,
   "id": "9655f782",
   "metadata": {},
   "outputs": [],
   "source": [
    "df['Grade'][df['Grade']=='Drop Year'] = '13'\n",
    "df['Grade'][df['Grade']=='drop year'] = '13'\n",
    "df['Grade'][df['Grade']=='Drop'] = '13'\n",
    "df['Grade'][df['Grade']=='UG'] = '13'\n",
    "df['Grade'][df['Grade']=='-'] = '13'\n",
    "df['Grade'][df['Grade']=='Still in 12'] = '12'\n",
    "df['Grade'][df['Grade']=='Diploma'] = '12'\n",
    "df['Grade'][df['Grade']=='as Cambridge level'] = '12'"
   ]
  },
  {
   "cell_type": "code",
   "execution_count": 16,
   "id": "68f9e1b8",
   "metadata": {},
   "outputs": [
    {
     "data": {
      "text/plain": [
       "Delhi                   333\n",
       "Noida                   173\n",
       "Ghaziabad               100\n",
       "Greater Noida            86\n",
       "Gurgaon                  61\n",
       "                       ... \n",
       "Ludhiana                  1\n",
       "Bharatpur, Rajasthan      1\n",
       "Lajpat Nagar, Delhi       1\n",
       "Chennai, Tamil Nadu       1\n",
       "DEHRADUN                  1\n",
       "Name: City, Length: 429, dtype: int64"
      ]
     },
     "execution_count": 16,
     "metadata": {},
     "output_type": "execute_result"
    }
   ],
   "source": [
    "#city\n",
    "df['City'].value_counts()"
   ]
  },
  {
   "cell_type": "code",
   "execution_count": 17,
   "id": "d3dde341",
   "metadata": {},
   "outputs": [],
   "source": [
    "df['City'] = df['City'].str.title()"
   ]
  },
  {
   "cell_type": "code",
   "execution_count": 18,
   "id": "5194cbbf",
   "metadata": {},
   "outputs": [],
   "source": [
    "df['City'] = df['City'].astype(str)"
   ]
  },
  {
   "cell_type": "code",
   "execution_count": 19,
   "id": "0a1b4195",
   "metadata": {},
   "outputs": [],
   "source": [
    "df['City'] = df['City'].str.strip()"
   ]
  },
  {
   "cell_type": "code",
   "execution_count": 20,
   "id": "7e4ea3b2",
   "metadata": {},
   "outputs": [
    {
     "data": {
      "text/plain": [
       "Delhi            425\n",
       "Noida            224\n",
       "nan              144\n",
       "Ghaziabad        143\n",
       "Greater Noida    111\n",
       "                ... \n",
       "Erode              1\n",
       "-                  1\n",
       "Punchkula          1\n",
       "Shahjahanpur       1\n",
       "Uk                 1\n",
       "Name: City, Length: 298, dtype: int64"
      ]
     },
     "execution_count": 20,
     "metadata": {},
     "output_type": "execute_result"
    }
   ],
   "source": [
    "df['City'].value_counts()"
   ]
  },
  {
   "cell_type": "code",
   "execution_count": 21,
   "id": "026dcb3b",
   "metadata": {},
   "outputs": [],
   "source": [
    "s = set()\n",
    "for i in range(df.shape[0]):\n",
    "    city_name = df.iloc[i]['City']\n",
    "    if ('Delhi' in city_name):\n",
    "        s.add(city_name)"
   ]
  },
  {
   "cell_type": "code",
   "execution_count": 22,
   "id": "537434a3",
   "metadata": {},
   "outputs": [
    {
     "data": {
      "text/plain": [
       "{'Delhi',\n",
       " 'Delhi Ncr',\n",
       " 'East Delhi',\n",
       " 'Lajpat Nagar, Delhi',\n",
       " 'Model Town Delhi',\n",
       " 'New Delhi',\n",
       " 'South Delhi',\n",
       " 'West Delhi'}"
      ]
     },
     "execution_count": 22,
     "metadata": {},
     "output_type": "execute_result"
    }
   ],
   "source": [
    "s"
   ]
  },
  {
   "cell_type": "code",
   "execution_count": 23,
   "id": "e60169f5",
   "metadata": {},
   "outputs": [],
   "source": [
    "df['City'][df['City']=='Delhi Ncr'] = 'Delhi'\n",
    "df['City'][df['City']=='Delh I'] = 'Delhi'\n",
    "df['City'][df['City']=='East Delhi'] = 'Delhi'\n",
    "df['City'][df['City']=='Lajpat Nagar, Delhi'] = 'Delhi'\n",
    "df['City'][df['City']=='Model Town Delhi'] = 'Delhi'\n",
    "df['City'][df['City']=='New Delhi'] = 'Delhi'\n",
    "df['City'][df['City']=='South Delhi'] = 'Delhi'\n",
    "df['City'][df['City']=='West Delhi'] = 'Delhi'\n",
    "df['City'][df['City']=='G Noida'] = 'Noida'\n",
    "df['City'][df['City']=='Nioda'] = 'Noida'\n",
    "df['City'][df['City']=='Nodia'] = 'Noida'\n",
    "df['City'][df['City']=='G. Noida'] = 'Noida'\n",
    "df['City'][df['City']=='G.Noida'] = 'Noida'\n",
    "df['City'][df['City']=='Gr Noida'] = 'Noida'\n",
    "df['City'][df['City']=='Greater Noida'] = 'Noida'\n",
    "df['City'][df['City']=='Greaterr Noida'] = 'Noida'\n",
    "df['City'][df['City']=='Ghazia'] = 'Ghaziabad'\n",
    "df['City'][df['City']=='Ghazibad'] = 'Ghaziabad'\n",
    "df['City'][df['City']=='Gaziabad'] = 'Ghaziabad'\n",
    "df['City'][df['City']=='Gurugram'] = 'Gurgaon'\n",
    "df['City'][df['City']=='Guargaon'] = 'Gurgaon'\n",
    "df['City'][df['City']=='Gurugaon'] = 'Gurgaon'\n",
    "df['City'][df['City']=='Gurgoan'] = 'Gurgaon'\n",
    "df['City'][df['City']=='Gurgeon'] = 'Gurgaon'\n",
    "df['City'][df['City']=='Merut'] = 'Meerut'\n",
    "df['City'][df['City']=='Harayana'] = 'Haryana'\n",
    "df['City'][df['City']=='Hayana'] = 'Haryana'\n",
    "df['City'][df['City']=='Hydrabad'] = 'Hyderabad'\n",
    "df['City'][df['City']=='Luknow'] = 'Lucknow'\n",
    "df['City'][df['City']=='Bulandshahar'] = 'Bulandshahr'\n",
    "df['City'][df['City']=='Banglalore'] = 'Bangalore'\n",
    "df['City'][df['City']=='Banglore'] = 'Bangalore'"
   ]
  },
  {
   "cell_type": "code",
   "execution_count": 24,
   "id": "b5d80cf8",
   "metadata": {},
   "outputs": [],
   "source": [
    "city_to_state = {\n",
    "    'Delhi': 'Delhi',\n",
    "    'Faridabad': 'Haryana',\n",
    "    'Gurgaon': 'Haryana',\n",
    "    'Noida': 'Uttar Pradesh',\n",
    "    'Ghaziabad': 'Uttar Pradesh',\n",
    "    'Haryana': 'Haryana',\n",
    "    'Meerut': 'Uttar Pradesh',\n",
    "    'Hyderabad': 'Telangana',\n",
    "    'Chennai': 'Tamil Nadu',\n",
    "    'Agra': 'Uttar Pradesh',\n",
    "    'Jaipur': 'Rajasthan',\n",
    "    'Kanpur': 'Uttar Pradesh',\n",
    "    'Tamil Nadu': 'Tamil Nadu',\n",
    "    'Up': 'Uttar Pradesh',\n",
    "    'Aligarh': 'Uttar Pradesh',\n",
    "    'Mumbai': 'Maharashtra',\n",
    "    'Rajasthan': 'Rajasthan',\n",
    "    'Bulandshahr': 'Uttar Pradesh',\n",
    "    'Bangalore': 'Karnataka',\n",
    "    'Lucknow': 'Uttar Pradesh',\n",
    "    'Dadri': 'Uttar Pradesh',\n",
    "    'Ludhiana': 'Punjab',\n",
    "    'Chandigarh': 'Punjab',\n",
    "    'Bhopal': 'Madhya Pradesh',\n",
    "    'Pune': 'Maharashtra',\n",
    "    'Muzaffarnagar': 'Uttar Pradesh',\n",
    "    'Alwar': 'Rajasthan',\n",
    "    'Bareilly': 'Uttar Pradesh',\n",
    "    'Panipat': 'Haryana',\n",
    "    'Dehradun': 'Uttarakhand',\n",
    "    'Kolkata': 'West Bengal',\n",
    "    'Rohtak': 'Haryana',\n",
    "    'Mathura': 'Uttar Pradesh',\n",
    "    'Haridwar': 'Uttar Pradesh',\n",
    "    'Sonipat': 'Haryana',\n",
    "    'Hisar': 'Haryana',\n",
    "    'Khurja': 'Uttar Pradesh',\n",
    "    'Nainital': 'Uttarakhand',\n",
    "    'Ambala': 'Haryana',\n",
    "    'Vaishali': 'Uttar Pradesh',\n",
    "    'Mp': 'Madhya Pradesh',\n",
    "    'Shimla': 'Himachal Pradesh',\n",
    "    'Coimbatore': 'Tamil Nadu',\n",
    "    'Kerala': 'Kerala',\n",
    "    'Pritampura': 'Delhi',\n",
    "    'Uttarakhand': 'Uttarakhand',\n",
    "    'Gwalior': 'Madhya Pradesh',\n",
    "    'Roorkee': 'Uttarakhand',\n",
    "    'Visakhapatnam': 'Andhra Pradesh',\n",
    "    'Odissa': 'Odisha'\n",
    "}\n",
    "df['State'] = df['City'].map(city_to_state)"
   ]
  },
  {
   "cell_type": "code",
   "execution_count": 25,
   "id": "f5e6152c",
   "metadata": {},
   "outputs": [
    {
     "data": {
      "text/plain": [
       "Uttar Pradesh       708\n",
       "Delhi               475\n",
       "Haryana             203\n",
       "Tamil Nadu           44\n",
       "Rajasthan            38\n",
       "Telangana            32\n",
       "Maharashtra          20\n",
       "Punjab               18\n",
       "Uttarakhand          17\n",
       "Karnataka            16\n",
       "Madhya Pradesh       13\n",
       "West Bengal           6\n",
       "Kerala                3\n",
       "Himachal Pradesh      3\n",
       "Andhra Pradesh        2\n",
       "Odisha                2\n",
       "Name: State, dtype: int64"
      ]
     },
     "execution_count": 25,
     "metadata": {},
     "output_type": "execute_result"
    }
   ],
   "source": [
    "df['State'].value_counts()"
   ]
  },
  {
   "cell_type": "code",
   "execution_count": 26,
   "id": "79a0bc05",
   "metadata": {},
   "outputs": [
    {
     "data": {
      "text/html": [
       "<div>\n",
       "<style scoped>\n",
       "    .dataframe tbody tr th:only-of-type {\n",
       "        vertical-align: middle;\n",
       "    }\n",
       "\n",
       "    .dataframe tbody tr th {\n",
       "        vertical-align: top;\n",
       "    }\n",
       "\n",
       "    .dataframe thead th {\n",
       "        text-align: right;\n",
       "    }\n",
       "</style>\n",
       "<table border=\"1\" class=\"dataframe\">\n",
       "  <thead>\n",
       "    <tr style=\"text-align: right;\">\n",
       "      <th></th>\n",
       "      <th>Date</th>\n",
       "      <th>Parent Name</th>\n",
       "      <th>Student Name</th>\n",
       "      <th>Course</th>\n",
       "      <th>Grade</th>\n",
       "      <th>Contact Details</th>\n",
       "      <th>E-mail ID</th>\n",
       "      <th>City</th>\n",
       "      <th>Application No</th>\n",
       "      <th>Status</th>\n",
       "      <th>Walk in</th>\n",
       "      <th>Counselor</th>\n",
       "      <th>Query</th>\n",
       "      <th>Campus Tour by</th>\n",
       "      <th>Walk-in Details By</th>\n",
       "      <th>Eligibility</th>\n",
       "      <th>Remarks</th>\n",
       "      <th>State</th>\n",
       "    </tr>\n",
       "  </thead>\n",
       "  <tbody>\n",
       "    <tr>\n",
       "      <th>0</th>\n",
       "      <td>19/09/2023</td>\n",
       "      <td>Vivek</td>\n",
       "      <td>Krish</td>\n",
       "      <td>Bachelor of Management Studies</td>\n",
       "      <td>12</td>\n",
       "      <td>9834744207</td>\n",
       "      <td>krishrachh59@gmail.com</td>\n",
       "      <td>Pune</td>\n",
       "      <td>-</td>\n",
       "      <td>Form not initiated</td>\n",
       "      <td>walk in (1+2)</td>\n",
       "      <td>Jayant Sir</td>\n",
       "      <td>Campus visit ( Counselling, faculty interactio...</td>\n",
       "      <td>Shivani</td>\n",
       "      <td>NaN</td>\n",
       "      <td>NaN</td>\n",
       "      <td>NaN</td>\n",
       "      <td>Maharashtra</td>\n",
       "    </tr>\n",
       "    <tr>\n",
       "      <th>1</th>\n",
       "      <td>21/09/2023</td>\n",
       "      <td>NaN</td>\n",
       "      <td>Maheep</td>\n",
       "      <td>BSc Economics</td>\n",
       "      <td>11</td>\n",
       "      <td>8766291167</td>\n",
       "      <td>janpreetwadhwa@gmail.com</td>\n",
       "      <td>Mumbai</td>\n",
       "      <td>NaN</td>\n",
       "      <td>Form not initiated</td>\n",
       "      <td>walk in (1+2)</td>\n",
       "      <td>Ankita</td>\n",
       "      <td>NaN</td>\n",
       "      <td>Adhitya Ram</td>\n",
       "      <td>NaN</td>\n",
       "      <td>NaN</td>\n",
       "      <td>NaN</td>\n",
       "      <td>Maharashtra</td>\n",
       "    </tr>\n",
       "    <tr>\n",
       "      <th>2</th>\n",
       "      <td>25/09/2023</td>\n",
       "      <td>Nitin Kumar</td>\n",
       "      <td>Tiksha Adlakha</td>\n",
       "      <td>BTech Computer Science Engineering</td>\n",
       "      <td>11</td>\n",
       "      <td>9015216127</td>\n",
       "      <td>sonia.nitin18@gmail.com</td>\n",
       "      <td>Delhi</td>\n",
       "      <td>-</td>\n",
       "      <td>Form not initiated</td>\n",
       "      <td>Walk in (1+2)</td>\n",
       "      <td>Anju</td>\n",
       "      <td>About the process</td>\n",
       "      <td>Astha</td>\n",
       "      <td>NaN</td>\n",
       "      <td>NaN</td>\n",
       "      <td>NaN</td>\n",
       "      <td>Delhi</td>\n",
       "    </tr>\n",
       "    <tr>\n",
       "      <th>3</th>\n",
       "      <td>25/09/2023</td>\n",
       "      <td>Rahul Kumar</td>\n",
       "      <td>Aditya Kumar</td>\n",
       "      <td>BTech Computer Science Engineering</td>\n",
       "      <td>12</td>\n",
       "      <td>9999783835</td>\n",
       "      <td>rahul2975@yahoo.com</td>\n",
       "      <td>Delhi</td>\n",
       "      <td>NaN</td>\n",
       "      <td>Form not initiated</td>\n",
       "      <td>Walk in (1+2)</td>\n",
       "      <td>Sasank</td>\n",
       "      <td>Process criteria</td>\n",
       "      <td>Shivani</td>\n",
       "      <td>NaN</td>\n",
       "      <td>NaN</td>\n",
       "      <td>NaN</td>\n",
       "      <td>Delhi</td>\n",
       "    </tr>\n",
       "    <tr>\n",
       "      <th>4</th>\n",
       "      <td>25/09/2023</td>\n",
       "      <td>NaN</td>\n",
       "      <td>Sahas Suri</td>\n",
       "      <td>BSc Economics</td>\n",
       "      <td>12</td>\n",
       "      <td>9711182828</td>\n",
       "      <td>sahassuri@gmail.com</td>\n",
       "      <td>Noida</td>\n",
       "      <td>-</td>\n",
       "      <td>Form not initiated</td>\n",
       "      <td>Walk in (1+2)</td>\n",
       "      <td>Ankita</td>\n",
       "      <td>About the process</td>\n",
       "      <td>Shivani</td>\n",
       "      <td>NaN</td>\n",
       "      <td>NaN</td>\n",
       "      <td>NaN</td>\n",
       "      <td>Uttar Pradesh</td>\n",
       "    </tr>\n",
       "  </tbody>\n",
       "</table>\n",
       "</div>"
      ],
      "text/plain": [
       "         Date   Parent Name    Student Name  \\\n",
       "0  19/09/2023         Vivek           Krish   \n",
       "1  21/09/2023           NaN          Maheep   \n",
       "2  25/09/2023   Nitin Kumar  Tiksha Adlakha   \n",
       "3  25/09/2023  Rahul Kumar     Aditya Kumar   \n",
       "4  25/09/2023           NaN      Sahas Suri   \n",
       "\n",
       "                               Course Grade Contact Details  \\\n",
       "0      Bachelor of Management Studies    12      9834744207   \n",
       "1                       BSc Economics    11      8766291167   \n",
       "2  BTech Computer Science Engineering    11      9015216127   \n",
       "3  BTech Computer Science Engineering    12      9999783835   \n",
       "4                       BSc Economics    12      9711182828   \n",
       "\n",
       "                  E-mail ID    City Application No              Status  \\\n",
       "0    krishrachh59@gmail.com    Pune              -  Form not initiated   \n",
       "1  janpreetwadhwa@gmail.com  Mumbai            NaN  Form not initiated   \n",
       "2   sonia.nitin18@gmail.com   Delhi              -  Form not initiated   \n",
       "3       rahul2975@yahoo.com   Delhi            NaN  Form not initiated   \n",
       "4       sahassuri@gmail.com   Noida              -  Form not initiated   \n",
       "\n",
       "         Walk in   Counselor  \\\n",
       "0  walk in (1+2)  Jayant Sir   \n",
       "1  walk in (1+2)      Ankita   \n",
       "2  Walk in (1+2)        Anju   \n",
       "3  Walk in (1+2)      Sasank   \n",
       "4  Walk in (1+2)      Ankita   \n",
       "\n",
       "                                               Query Campus Tour by  \\\n",
       "0  Campus visit ( Counselling, faculty interactio...        Shivani   \n",
       "1                                                NaN    Adhitya Ram   \n",
       "2                                  About the process          Astha   \n",
       "3                                  Process criteria         Shivani   \n",
       "4                                  About the process        Shivani   \n",
       "\n",
       "  Walk-in Details By Eligibility Remarks          State  \n",
       "0                NaN         NaN     NaN    Maharashtra  \n",
       "1                NaN         NaN     NaN    Maharashtra  \n",
       "2                NaN         NaN     NaN          Delhi  \n",
       "3                NaN         NaN     NaN          Delhi  \n",
       "4                NaN         NaN     NaN  Uttar Pradesh  "
      ]
     },
     "execution_count": 26,
     "metadata": {},
     "output_type": "execute_result"
    }
   ],
   "source": [
    "df.head()"
   ]
  },
  {
   "cell_type": "code",
   "execution_count": 27,
   "id": "14c390aa",
   "metadata": {},
   "outputs": [],
   "source": [
    "#status\n",
    "df['Status'] = df['Status'].str.strip()"
   ]
  },
  {
   "cell_type": "code",
   "execution_count": 28,
   "id": "45e33896",
   "metadata": {},
   "outputs": [],
   "source": [
    "df['Status'] = df['Status'].str.title()"
   ]
  },
  {
   "cell_type": "code",
   "execution_count": 29,
   "id": "aca704ae",
   "metadata": {},
   "outputs": [],
   "source": [
    "df['Status'][df['Status']=='Form intitiated- test taken'] = 'Form Initiated- Test Taken'\n",
    "df['Status'][df['Status']=='Test'] = 'Form Initiated- Test Taken'\n",
    "df['Status'][df['Status']=='Taking Test'] = 'Form Initiated- Test Taken'\n",
    "df['Status'][df['Status']=='Test And Campus Tour'] = 'Form Initiated- Test Taken'\n",
    "df['Status'][df['Status']=='Test Taken'] = 'Form Initiated- Test Taken'\n",
    "df['Status'][df['Status']=='Taking Test'] = 'Form Initiated- Test Taken'\n",
    "df['Status'][df['Status']=='Taken'] = 'Form Initiated- Test Taken'\n",
    "df['Status'][df['Status']=='Test And Campus Visit'] = 'Form Initiated- Test Taken'\n",
    "df['Status'][df['Status']=='Waiting For Result'] = 'Form Initiated- Test Taken'\n",
    "df['Status'][df['Status']=='Form Intitiated- Test Taken'] = 'Form Initiated- Test Taken'\n",
    "df['Status'][df['Status']=='Test Not Taken'] = 'Form Initiated- Test Not Taken'\n",
    "df['Status'][df['Status']=='Admission Process'] = 'Form Initiated- Test Not Taken'\n",
    "df['Status'][df['Status']=='Did Not Take Test'] = 'Form Initiated- Test Not Taken'\n",
    "df['Status'][df['Status']=='Form Initiated'] = 'Form Initiated- Test Not Taken'\n",
    "df['Status'][df['Status']=='Just Initiated The Form'] = 'Form Initiated- Test Not Taken'\n",
    "df['Status'][df['Status']=='Offer'] = 'Offered - Fee Paid'\n",
    "df['Status'][df['Status']=='Campus Tour'] = 'Offered - Fee Paid'\n",
    "df['Status'][df['Status']=='Campou Tour'] = 'Offered - Fee Paid'\n",
    "df['Status'][df['Status']=='-'] = 'Offered - Fee Paid'\n",
    "\n",
    "df['Status'][df['Status']=='Offered'] = 'Offered - Fee Not Paid'\n",
    "df['Status'][df['Status']=='Offered/ Fee Paid'] = 'Offered - Fee Paid'\n",
    "df['Status'][df['Status']=='Form Initiated- Test Not Taken'] = 'Form Initiated - Test Not Taken'\n",
    "df['Status'][df['Status']=='Form Initiated- Test Taken'] = 'Form Initiated - Test Taken'"
   ]
  },
  {
   "cell_type": "code",
   "execution_count": 30,
   "id": "640c30bf",
   "metadata": {},
   "outputs": [
    {
     "data": {
      "text/plain": [
       "Offered - Fee Not Paid             622\n",
       "Form Initiated - Test Not Taken    411\n",
       "Form Not Initiated                 327\n",
       "Form Initiated - Test Taken        318\n",
       "Offered - Fee Paid                 255\n",
       "Name: Status, dtype: int64"
      ]
     },
     "execution_count": 30,
     "metadata": {},
     "output_type": "execute_result"
    }
   ],
   "source": [
    "#status\n",
    "df['Status'].value_counts()"
   ]
  },
  {
   "cell_type": "code",
   "execution_count": 31,
   "id": "888166f6",
   "metadata": {},
   "outputs": [],
   "source": [
    "#Walk-in\n",
    "df['Walk in'] = df['Walk in'].str.strip()\n",
    "df['Walk in'] = df['Walk in'].str.title()\n",
    "df['Walk in'].value_counts()[:20]\n",
    "df['Walk in'] = df['Walk in'].str.extract(r'\\+(\\d+)')\n",
    "# df['Walk in'].value_counts()[:20]"
   ]
  },
  {
   "cell_type": "code",
   "execution_count": 32,
   "id": "2c7b860b",
   "metadata": {},
   "outputs": [],
   "source": [
    "df['Walk in'].fillna(0, inplace=True)"
   ]
  },
  {
   "cell_type": "code",
   "execution_count": 33,
   "id": "0377db75",
   "metadata": {},
   "outputs": [],
   "source": [
    "df['Walk in'] = df['Walk in'].astype(int) + 1"
   ]
  },
  {
   "cell_type": "code",
   "execution_count": 34,
   "id": "bceddb46",
   "metadata": {},
   "outputs": [],
   "source": [
    "head = df['Walk in'].value_counts().index\n",
    "count = df['Walk in'].value_counts().values"
   ]
  },
  {
   "cell_type": "code",
   "execution_count": 35,
   "id": "c59c50c4",
   "metadata": {},
   "outputs": [
    {
     "data": {
      "text/plain": [
       "4892"
      ]
     },
     "execution_count": 35,
     "metadata": {},
     "output_type": "execute_result"
    }
   ],
   "source": [
    "total = 0\n",
    "for i in range(len(head)):\n",
    "    total+=(head[i]*count[i])\n",
    "total"
   ]
  },
  {
   "cell_type": "markdown",
   "id": "69a6e5f1",
   "metadata": {},
   "source": [
    "## Analysis & Insights"
   ]
  },
  {
   "cell_type": "code",
   "execution_count": 36,
   "id": "be02e978",
   "metadata": {},
   "outputs": [
    {
     "data": {
      "text/html": [
       "<div>\n",
       "<style scoped>\n",
       "    .dataframe tbody tr th:only-of-type {\n",
       "        vertical-align: middle;\n",
       "    }\n",
       "\n",
       "    .dataframe tbody tr th {\n",
       "        vertical-align: top;\n",
       "    }\n",
       "\n",
       "    .dataframe thead th {\n",
       "        text-align: right;\n",
       "    }\n",
       "</style>\n",
       "<table border=\"1\" class=\"dataframe\">\n",
       "  <thead>\n",
       "    <tr style=\"text-align: right;\">\n",
       "      <th></th>\n",
       "      <th>Date</th>\n",
       "      <th>Parent Name</th>\n",
       "      <th>Student Name</th>\n",
       "      <th>Course</th>\n",
       "      <th>Grade</th>\n",
       "      <th>Contact Details</th>\n",
       "      <th>E-mail ID</th>\n",
       "      <th>City</th>\n",
       "      <th>Application No</th>\n",
       "      <th>Status</th>\n",
       "      <th>Walk in</th>\n",
       "      <th>Counselor</th>\n",
       "      <th>Query</th>\n",
       "      <th>Campus Tour by</th>\n",
       "      <th>Walk-in Details By</th>\n",
       "      <th>Eligibility</th>\n",
       "      <th>Remarks</th>\n",
       "      <th>State</th>\n",
       "    </tr>\n",
       "  </thead>\n",
       "  <tbody>\n",
       "    <tr>\n",
       "      <th>0</th>\n",
       "      <td>19/09/2023</td>\n",
       "      <td>Vivek</td>\n",
       "      <td>Krish</td>\n",
       "      <td>Bachelor of Management Studies</td>\n",
       "      <td>12</td>\n",
       "      <td>9834744207</td>\n",
       "      <td>krishrachh59@gmail.com</td>\n",
       "      <td>Pune</td>\n",
       "      <td>-</td>\n",
       "      <td>Form Not Initiated</td>\n",
       "      <td>3</td>\n",
       "      <td>Jayant Sir</td>\n",
       "      <td>Campus visit ( Counselling, faculty interactio...</td>\n",
       "      <td>Shivani</td>\n",
       "      <td>NaN</td>\n",
       "      <td>NaN</td>\n",
       "      <td>NaN</td>\n",
       "      <td>Maharashtra</td>\n",
       "    </tr>\n",
       "    <tr>\n",
       "      <th>1</th>\n",
       "      <td>21/09/2023</td>\n",
       "      <td>NaN</td>\n",
       "      <td>Maheep</td>\n",
       "      <td>BSc Economics</td>\n",
       "      <td>11</td>\n",
       "      <td>8766291167</td>\n",
       "      <td>janpreetwadhwa@gmail.com</td>\n",
       "      <td>Mumbai</td>\n",
       "      <td>NaN</td>\n",
       "      <td>Form Not Initiated</td>\n",
       "      <td>3</td>\n",
       "      <td>Ankita</td>\n",
       "      <td>NaN</td>\n",
       "      <td>Adhitya Ram</td>\n",
       "      <td>NaN</td>\n",
       "      <td>NaN</td>\n",
       "      <td>NaN</td>\n",
       "      <td>Maharashtra</td>\n",
       "    </tr>\n",
       "    <tr>\n",
       "      <th>2</th>\n",
       "      <td>25/09/2023</td>\n",
       "      <td>Nitin Kumar</td>\n",
       "      <td>Tiksha Adlakha</td>\n",
       "      <td>BTech Computer Science Engineering</td>\n",
       "      <td>11</td>\n",
       "      <td>9015216127</td>\n",
       "      <td>sonia.nitin18@gmail.com</td>\n",
       "      <td>Delhi</td>\n",
       "      <td>-</td>\n",
       "      <td>Form Not Initiated</td>\n",
       "      <td>3</td>\n",
       "      <td>Anju</td>\n",
       "      <td>About the process</td>\n",
       "      <td>Astha</td>\n",
       "      <td>NaN</td>\n",
       "      <td>NaN</td>\n",
       "      <td>NaN</td>\n",
       "      <td>Delhi</td>\n",
       "    </tr>\n",
       "    <tr>\n",
       "      <th>3</th>\n",
       "      <td>25/09/2023</td>\n",
       "      <td>Rahul Kumar</td>\n",
       "      <td>Aditya Kumar</td>\n",
       "      <td>BTech Computer Science Engineering</td>\n",
       "      <td>12</td>\n",
       "      <td>9999783835</td>\n",
       "      <td>rahul2975@yahoo.com</td>\n",
       "      <td>Delhi</td>\n",
       "      <td>NaN</td>\n",
       "      <td>Form Not Initiated</td>\n",
       "      <td>3</td>\n",
       "      <td>Sasank</td>\n",
       "      <td>Process criteria</td>\n",
       "      <td>Shivani</td>\n",
       "      <td>NaN</td>\n",
       "      <td>NaN</td>\n",
       "      <td>NaN</td>\n",
       "      <td>Delhi</td>\n",
       "    </tr>\n",
       "    <tr>\n",
       "      <th>4</th>\n",
       "      <td>25/09/2023</td>\n",
       "      <td>NaN</td>\n",
       "      <td>Sahas Suri</td>\n",
       "      <td>BSc Economics</td>\n",
       "      <td>12</td>\n",
       "      <td>9711182828</td>\n",
       "      <td>sahassuri@gmail.com</td>\n",
       "      <td>Noida</td>\n",
       "      <td>-</td>\n",
       "      <td>Form Not Initiated</td>\n",
       "      <td>3</td>\n",
       "      <td>Ankita</td>\n",
       "      <td>About the process</td>\n",
       "      <td>Shivani</td>\n",
       "      <td>NaN</td>\n",
       "      <td>NaN</td>\n",
       "      <td>NaN</td>\n",
       "      <td>Uttar Pradesh</td>\n",
       "    </tr>\n",
       "    <tr>\n",
       "      <th>5</th>\n",
       "      <td>25/09/2023</td>\n",
       "      <td>NaN</td>\n",
       "      <td>Rudraksh</td>\n",
       "      <td>BTech Computer Science Engineering</td>\n",
       "      <td>12</td>\n",
       "      <td>9999904444</td>\n",
       "      <td>rudraksh14@gmail.com</td>\n",
       "      <td>Noida</td>\n",
       "      <td>-</td>\n",
       "      <td>Form Not Initiated</td>\n",
       "      <td>3</td>\n",
       "      <td>Ankita</td>\n",
       "      <td>About the process</td>\n",
       "      <td>Adhitya Ram</td>\n",
       "      <td>NaN</td>\n",
       "      <td>NaN</td>\n",
       "      <td>NaN</td>\n",
       "      <td>Uttar Pradesh</td>\n",
       "    </tr>\n",
       "    <tr>\n",
       "      <th>6</th>\n",
       "      <td>25/09/2023</td>\n",
       "      <td>NaN</td>\n",
       "      <td>Rudra Pratap</td>\n",
       "      <td>BTech Computer Science Engineering</td>\n",
       "      <td>12</td>\n",
       "      <td>9810250614</td>\n",
       "      <td>NaN</td>\n",
       "      <td>Gurgaon</td>\n",
       "      <td>-</td>\n",
       "      <td>Form Not Initiated</td>\n",
       "      <td>1</td>\n",
       "      <td>Ankita</td>\n",
       "      <td>NaN</td>\n",
       "      <td>Adhitya Ram</td>\n",
       "      <td>NaN</td>\n",
       "      <td>NaN</td>\n",
       "      <td>NaN</td>\n",
       "      <td>Haryana</td>\n",
       "    </tr>\n",
       "    <tr>\n",
       "      <th>7</th>\n",
       "      <td>25/09/2023</td>\n",
       "      <td>NaN</td>\n",
       "      <td>Kimaya Kashyap</td>\n",
       "      <td>Bachelor of Design</td>\n",
       "      <td>12</td>\n",
       "      <td>9650995137</td>\n",
       "      <td>seujpratim@gmail.com</td>\n",
       "      <td>Noida</td>\n",
       "      <td>NaN</td>\n",
       "      <td>Form Not Initiated</td>\n",
       "      <td>1</td>\n",
       "      <td>Anju Ma'am</td>\n",
       "      <td>Process</td>\n",
       "      <td>Shivani</td>\n",
       "      <td>NaN</td>\n",
       "      <td>NaN</td>\n",
       "      <td>NaN</td>\n",
       "      <td>Uttar Pradesh</td>\n",
       "    </tr>\n",
       "    <tr>\n",
       "      <th>8</th>\n",
       "      <td>17/11/2023</td>\n",
       "      <td>Manas Das</td>\n",
       "      <td>Ainesh</td>\n",
       "      <td>BTech Mechanical Engineering</td>\n",
       "      <td>12</td>\n",
       "      <td>9311773657</td>\n",
       "      <td>ainesh.das12@gmail.com</td>\n",
       "      <td>Delhi</td>\n",
       "      <td>-</td>\n",
       "      <td>Form Not Initiated</td>\n",
       "      <td>3</td>\n",
       "      <td>Adhitya Ram</td>\n",
       "      <td>Campus visit ( Counselling,campus tour)</td>\n",
       "      <td>Adhitya Ram</td>\n",
       "      <td>NaN</td>\n",
       "      <td>NaN</td>\n",
       "      <td>NaN</td>\n",
       "      <td>Delhi</td>\n",
       "    </tr>\n",
       "    <tr>\n",
       "      <th>9</th>\n",
       "      <td>17/11/2023</td>\n",
       "      <td>Amit</td>\n",
       "      <td>Aditya</td>\n",
       "      <td>BTech Computer Science Engineering</td>\n",
       "      <td>13</td>\n",
       "      <td>9818636269</td>\n",
       "      <td>Amitbhanot@reddifmail.com</td>\n",
       "      <td>Delhi</td>\n",
       "      <td>NaN</td>\n",
       "      <td>Form Not Initiated</td>\n",
       "      <td>1</td>\n",
       "      <td>NaN</td>\n",
       "      <td>NaN</td>\n",
       "      <td>Shivani</td>\n",
       "      <td>NaN</td>\n",
       "      <td>NaN</td>\n",
       "      <td>NaN</td>\n",
       "      <td>Delhi</td>\n",
       "    </tr>\n",
       "  </tbody>\n",
       "</table>\n",
       "</div>"
      ],
      "text/plain": [
       "         Date   Parent Name    Student Name  \\\n",
       "0  19/09/2023         Vivek           Krish   \n",
       "1  21/09/2023           NaN          Maheep   \n",
       "2  25/09/2023   Nitin Kumar  Tiksha Adlakha   \n",
       "3  25/09/2023  Rahul Kumar     Aditya Kumar   \n",
       "4  25/09/2023           NaN      Sahas Suri   \n",
       "5  25/09/2023           NaN       Rudraksh    \n",
       "6  25/09/2023           NaN    Rudra Pratap   \n",
       "7  25/09/2023           NaN  Kimaya Kashyap   \n",
       "8  17/11/2023     Manas Das         Ainesh    \n",
       "9  17/11/2023          Amit          Aditya   \n",
       "\n",
       "                               Course Grade Contact Details  \\\n",
       "0      Bachelor of Management Studies    12      9834744207   \n",
       "1                       BSc Economics    11      8766291167   \n",
       "2  BTech Computer Science Engineering    11      9015216127   \n",
       "3  BTech Computer Science Engineering    12      9999783835   \n",
       "4                       BSc Economics    12      9711182828   \n",
       "5  BTech Computer Science Engineering    12      9999904444   \n",
       "6  BTech Computer Science Engineering    12      9810250614   \n",
       "7                  Bachelor of Design    12      9650995137   \n",
       "8        BTech Mechanical Engineering    12      9311773657   \n",
       "9  BTech Computer Science Engineering    13      9818636269   \n",
       "\n",
       "                   E-mail ID     City Application No              Status  \\\n",
       "0     krishrachh59@gmail.com     Pune              -  Form Not Initiated   \n",
       "1   janpreetwadhwa@gmail.com   Mumbai            NaN  Form Not Initiated   \n",
       "2    sonia.nitin18@gmail.com    Delhi              -  Form Not Initiated   \n",
       "3        rahul2975@yahoo.com    Delhi            NaN  Form Not Initiated   \n",
       "4        sahassuri@gmail.com    Noida              -  Form Not Initiated   \n",
       "5       rudraksh14@gmail.com    Noida              -  Form Not Initiated   \n",
       "6                        NaN  Gurgaon              -  Form Not Initiated   \n",
       "7       seujpratim@gmail.com    Noida            NaN  Form Not Initiated   \n",
       "8     ainesh.das12@gmail.com    Delhi              -  Form Not Initiated   \n",
       "9  Amitbhanot@reddifmail.com    Delhi            NaN  Form Not Initiated   \n",
       "\n",
       "   Walk in    Counselor                                              Query  \\\n",
       "0        3   Jayant Sir  Campus visit ( Counselling, faculty interactio...   \n",
       "1        3       Ankita                                                NaN   \n",
       "2        3         Anju                                  About the process   \n",
       "3        3       Sasank                                  Process criteria    \n",
       "4        3       Ankita                                  About the process   \n",
       "5        3       Ankita                                  About the process   \n",
       "6        1       Ankita                                                NaN   \n",
       "7        1  Anju Ma'am                                             Process   \n",
       "8        3  Adhitya Ram            Campus visit ( Counselling,campus tour)   \n",
       "9        1          NaN                                                NaN   \n",
       "\n",
       "  Campus Tour by Walk-in Details By Eligibility Remarks          State  \n",
       "0        Shivani                NaN         NaN     NaN    Maharashtra  \n",
       "1    Adhitya Ram                NaN         NaN     NaN    Maharashtra  \n",
       "2          Astha                NaN         NaN     NaN          Delhi  \n",
       "3        Shivani                NaN         NaN     NaN          Delhi  \n",
       "4        Shivani                NaN         NaN     NaN  Uttar Pradesh  \n",
       "5    Adhitya Ram                NaN         NaN     NaN  Uttar Pradesh  \n",
       "6    Adhitya Ram                NaN         NaN     NaN        Haryana  \n",
       "7        Shivani                NaN         NaN     NaN  Uttar Pradesh  \n",
       "8    Adhitya Ram                NaN         NaN     NaN          Delhi  \n",
       "9        Shivani                NaN         NaN     NaN          Delhi  "
      ]
     },
     "execution_count": 36,
     "metadata": {},
     "output_type": "execute_result"
    }
   ],
   "source": [
    "df.head(10)"
   ]
  },
  {
   "cell_type": "code",
   "execution_count": 41,
   "id": "ce6bc51c",
   "metadata": {},
   "outputs": [],
   "source": [
    "df['month'] = df['month'].astype(str)"
   ]
  },
  {
   "cell_type": "code",
   "execution_count": 42,
   "id": "529bda55",
   "metadata": {},
   "outputs": [
    {
     "data": {
      "text/plain": [
       "2024-05    727\n",
       "2024-06    406\n",
       "2024-04    345\n",
       "2024-07    276\n",
       "2024-03    151\n",
       "2024-02     57\n",
       "2024-01     21\n",
       "2023-12     15\n",
       "2044-07     13\n",
       "2023-09      8\n",
       "2023-11      4\n",
       "Freq: M, Name: month, dtype: int64"
      ]
     },
     "execution_count": 42,
     "metadata": {},
     "output_type": "execute_result"
    }
   ],
   "source": [
    "#date-wise / month-wise walkins\n",
    "df['month'] = df['Date'].dt.to_period('M')\n",
    "df['month'].value_counts()"
   ]
  },
  {
   "cell_type": "code",
   "execution_count": 55,
   "id": "48c74e78",
   "metadata": {},
   "outputs": [],
   "source": [
    "df = df[df['month']!='2025-02']\n",
    "df = df[df['month']!='2025-03']\n",
    "df = df[df['month']!='2025-04']\n",
    "df = df[df['month']!='2024-08']\n",
    "df = df[df['month']!='2026-04']\n",
    "df.loc[df['month'] == '2024-12', 'month'] = '2023-12'\n",
    "df.loc[df['month'] == '2044-12', 'month'] = '2024-07'"
   ]
  },
  {
   "cell_type": "code",
   "execution_count": 56,
   "id": "f0c16a33",
   "metadata": {},
   "outputs": [
    {
     "data": {
      "text/plain": [
       "2024-05    727\n",
       "2024-06    406\n",
       "2024-04    345\n",
       "2024-07    276\n",
       "2024-03    151\n",
       "2024-02     57\n",
       "2024-01     21\n",
       "2023-12     15\n",
       "2044-07     13\n",
       "2023-09      8\n",
       "2023-11      4\n",
       "Freq: M, Name: month, dtype: int64"
      ]
     },
     "execution_count": 56,
     "metadata": {},
     "output_type": "execute_result"
    }
   ],
   "source": [
    "#month-wise walkins\n",
    "df['month'].value_counts()"
   ]
  },
  {
   "cell_type": "code",
   "execution_count": 49,
   "id": "50d58367",
   "metadata": {},
   "outputs": [],
   "source": [
    "df['Date'] = pd.to_datetime(df['Date'], format='%d/%m/%Y')"
   ]
  },
  {
   "cell_type": "code",
   "execution_count": 72,
   "id": "976280e8",
   "metadata": {},
   "outputs": [
    {
     "data": {
      "text/plain": [
       "Offered - Fee Not Paid             622\n",
       "Form Initiated - Test Not Taken    408\n",
       "Form Not Initiated                 326\n",
       "Form Initiated - Test Taken        317\n",
       "Offered - Fee Paid                 255\n",
       "Name: Status, dtype: int64"
      ]
     },
     "execution_count": 72,
     "metadata": {},
     "output_type": "execute_result"
    }
   ],
   "source": [
    "#application status\n",
    "df['Status'].value_counts()"
   ]
  },
  {
   "cell_type": "code",
   "execution_count": 73,
   "id": "cdea239a",
   "metadata": {},
   "outputs": [
    {
     "data": {
      "text/plain": [
       "BTech Computer Science Engineering         934\n",
       "Bachelor of Management Studies             300\n",
       "BTech Electrical & Computer Engineering    203\n",
       "BSc Economics                               90\n",
       "BTech Mechanical Engineering                79\n",
       "BSc Economics & Finance                     79\n",
       "Bachelor of Design                          73\n",
       "BSc Biotechnology                           59\n",
       "BA International Relations                  38\n",
       "BTech Chemical Engineering                  34\n",
       "BSc Mathematics                             29\n",
       "BTech Civil Engineering                     23\n",
       "BSc Physics                                 16\n",
       "BSc Chemistry                               11\n",
       "BA Sociology                                10\n",
       "BA History                                   7\n",
       "BA English                                   6\n",
       "Name: Course, dtype: int64"
      ]
     },
     "execution_count": 73,
     "metadata": {},
     "output_type": "execute_result"
    }
   ],
   "source": [
    "#course popularity\n",
    "df['Course'].value_counts()"
   ]
  },
  {
   "cell_type": "code",
   "execution_count": 74,
   "id": "2bb4b20f",
   "metadata": {},
   "outputs": [
    {
     "data": {
      "text/plain": [
       "12    1928\n",
       "13      46\n",
       "11       5\n",
       "Name: Grade, dtype: int64"
      ]
     },
     "execution_count": 74,
     "metadata": {},
     "output_type": "execute_result"
    }
   ],
   "source": [
    "#class currently in \n",
    "df['Grade'].value_counts()"
   ]
  },
  {
   "cell_type": "code",
   "execution_count": 75,
   "id": "d6d29199",
   "metadata": {},
   "outputs": [
    {
     "data": {
      "text/plain": [
       "Uttar Pradesh       708\n",
       "Delhi               474\n",
       "Haryana             202\n",
       "Tamil Nadu           44\n",
       "Rajasthan            38\n",
       "Telangana            32\n",
       "Maharashtra          20\n",
       "Punjab               18\n",
       "Uttarakhand          17\n",
       "Karnataka            16\n",
       "Madhya Pradesh       13\n",
       "West Bengal           6\n",
       "Kerala                3\n",
       "Himachal Pradesh      3\n",
       "Andhra Pradesh        2\n",
       "Odisha                2\n",
       "Name: State, dtype: int64"
      ]
     },
     "execution_count": 75,
     "metadata": {},
     "output_type": "execute_result"
    }
   ],
   "source": [
    "#geographical insights - state wise\n",
    "df['State'].value_counts()"
   ]
  },
  {
   "cell_type": "code",
   "execution_count": 76,
   "id": "ccb15710",
   "metadata": {},
   "outputs": [
    {
     "data": {
      "text/plain": [
       "3    614\n",
       "1    610\n",
       "2    437\n",
       "4    285\n",
       "5     53\n",
       "6     19\n",
       "7      5\n",
       "Name: Walk in, dtype: int64"
      ]
     },
     "execution_count": 76,
     "metadata": {},
     "output_type": "execute_result"
    }
   ],
   "source": [
    "#Walk-in Group Size\n",
    "df['Walk in'].value_counts()"
   ]
  },
  {
   "cell_type": "code",
   "execution_count": 77,
   "id": "53ef994d",
   "metadata": {},
   "outputs": [],
   "source": [
    "df.to_excel('final.xlsx', index = False)"
   ]
  }
 ],
 "metadata": {
  "kernelspec": {
   "display_name": "Python 3 (ipykernel)",
   "language": "python",
   "name": "python3"
  },
  "language_info": {
   "codemirror_mode": {
    "name": "ipython",
    "version": 3
   },
   "file_extension": ".py",
   "mimetype": "text/x-python",
   "name": "python",
   "nbconvert_exporter": "python",
   "pygments_lexer": "ipython3",
   "version": "3.10.11"
  }
 },
 "nbformat": 4,
 "nbformat_minor": 5
}
